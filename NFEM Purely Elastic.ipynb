{
 "cells": [
  {
   "cell_type": "code",
   "execution_count": null,
   "metadata": {},
   "outputs": [],
   "source": [
    "import numpy as np\n",
    "import matplotlib.pyplot as plt"
   ]
  },
  {
   "cell_type": "markdown",
   "metadata": {},
   "source": [
    "## Defining Parameters:\n",
    "\n",
    "The variant number 9 was chosen."
   ]
  },
  {
   "cell_type": "code",
   "execution_count": null,
   "metadata": {},
   "outputs": [],
   "source": [
    "#Defining Parameters:\n",
    "\n",
    "youngs_modulus = 200e3#e9 #PA\n",
    "poisson_ratio = 0.30\n",
    "sigmaY = 400#e6 #Pa\n",
    "r_in = 20#e-6 #m\n",
    "r_out = 100#e-6 #m\n",
    "epsilon_v = 0.001\n",
    "final_time = 1 #seconds\n",
    "delta_t = 0.1 #seconds\n",
    "time_steps = 10\n",
    "number_of_elements = 10\n",
    "number_of_nodes = number_of_elements + 1\n"
   ]
  },
  {
   "cell_type": "markdown",
   "metadata": {},
   "source": [
    "## Derived parameters:"
   ]
  },
  {
   "cell_type": "code",
   "execution_count": null,
   "metadata": {},
   "outputs": [],
   "source": [
    "#Derived parameters:\n",
    "\n",
    "lamda = (poisson_ratio * youngs_modulus)/((1 - 2*poisson_ratio)*(1+poisson_ratio))\n",
    "mu  = youngs_modulus/ (2*(1+poisson_ratio))\n",
    "epsilon_v_init = (1+poisson_ratio)*(sigmaY/youngs_modulus)"
   ]
  },
  {
   "cell_type": "markdown",
   "metadata": {},
   "source": [
    "## Initializing all the measurable quantities:"
   ]
  },
  {
   "cell_type": "code",
   "execution_count": null,
   "metadata": {},
   "outputs": [],
   "source": [
    "#time intervals\n",
    "number_of_timesteps = 10\n",
    "\n",
    "all_times = np.linspace(0 , 1 , number_of_timesteps)\n",
    "\n",
    "#Initializing all the measurable quantities:\n",
    "\n",
    "u = np.zeros((len(all_times),number_of_nodes,1)) #Displacements at every node and every time-step\n",
    "\n",
    "epsilon_plastic = np.zeros((len(all_times),3,number_of_elements))  #Epsilon_Plastic for every element and in each timestep\n",
    "\n",
    "epsilon_3D = np.zeros((len(all_times),3,number_of_elements)) # Strain in Voigt Notation for the given problem is 3x1 Matrix\n",
    "\n",
    "stress_3D = np.zeros((len(all_times),3,number_of_elements)) # Stress in Voigt Noation for the given problem is 3x1 Matrix\n",
    "\n",
    "Material_Stiffness = np.zeros((3,3)) #Stress = Stiffness x Strain --> C = 3x3 Matrix\n",
    "\n",
    "Kt = np.zeros((number_of_nodes,number_of_nodes))\n",
    "\n",
    "F_int = np.zeros((number_of_nodes,1))\n",
    "\n",
    "F_ext = np.zeros((number_of_nodes,1))\n",
    "\n",
    "delta_u = np.zeros((number_of_nodes,1))\n"
   ]
  },
  {
   "cell_type": "markdown",
   "metadata": {},
   "source": [
    "## Define Material Routine :"
   ]
  },
  {
   "cell_type": "code",
   "execution_count": null,
   "metadata": {},
   "outputs": [],
   "source": [
    "def material_routine(epsilon, epsilon_plastic_old, lamda, mu , sigmaY, youngs_modulus):\n",
    "\n",
    "    C_ijkl = np.array([(2*mu + lamda), lamda, lamda,lamda,(2*mu + lamda), lamda, lamda,lamda,(2*mu + lamda)]).reshape(3,3)\n",
    "\n",
    "    sigma_trial = np.dot(C_ijkl,(epsilon - epsilon_plastic_old))   #3x1 Matrix\n",
    "    \n",
    "    sigma_trial_dev = sigma_trial - np.sum(sigma_trial)/3          #3x1 Matrix\n",
    "    \n",
    "    sigma_trial_eq = np.asscalar(np.sqrt((1.5*np.dot((np.transpose(sigma_trial_dev)),sigma_trial_dev)))) #Scalar\n",
    "\n",
    "    C_t = np.zeros((3,3))   # Algorithmically Consistent Tangent Stiffness Matrix\n",
    "    \n",
    "    if (np.sum(epsilon)<epsilon_v_init):\n",
    "        print(\"******************ELASTIC REGION*********************\")\n",
    "    else:\n",
    "        print(\"******************PLASTIC REGION*********************\")\n",
    "\n",
    "    #Yield Condition ------> Check for Elastic and Plastic Case \n",
    "    \n",
    "    if (sigma_trial_eq - sigmaY) < 0:\n",
    "        print(\"(sigma_trial_eq - sigmaY) < 0 -----------------------------------This is in Elastic Region\")\n",
    "        \n",
    "        plastic_multiplier = 0\n",
    "        \n",
    "        C_t = np.array([(2*mu + lamda), lamda, lamda,lamda,(2*mu + lamda), lamda, lamda,lamda,(2*mu + lamda)]).reshape(3,3)\n",
    "        \n",
    "        sigma_new = 2*mu*(epsilon - epsilon_plastic_old) + lamda*np.sum(epsilon - epsilon_plastic_old)\n",
    "        \n",
    "        epsilon_plastic_new = epsilon_plastic_old\n",
    "        \n",
    "    else :\n",
    "        print(\"(sigma_trial_eq - sigmaY) >0 --------------------------------------This is in  Plastic Region\")\n",
    "        \n",
    "        plastic_multiplier = sigma_trial_eq /(3*mu + sigmaY)\n",
    "\n",
    "        sigma_new = np.sum(sigma_trial)/3 + ((sigma_trial_eq - 3*mu*plastic_multiplier)/sigma_trial_eq)*sigma_trial_dev\n",
    "\n",
    "    \n",
    "        C_t[0][0] = ((3*lamda + 2*mu)/3 + (4*mu*(sigma_trial_eq - 3*mu*plastic_multiplier)/(3*sigma_trial_eq))) - (3*mu*sigma_trial_dev[0,0]*sigma_trial_dev[0,0])\n",
    "        C_t[1][1] = ((3*lamda + 2*mu)/3 + (4*mu*(sigma_trial_eq - 3*mu*plastic_multiplier)/(3*sigma_trial_eq))) - (3*mu*sigma_trial_dev[1,0]*sigma_trial_dev[1,0])\n",
    "        C_t[2][2] = ((3*lamda + 2*mu)/3 + (4*mu*(sigma_trial_eq - 3*mu*plastic_multiplier)/(3*sigma_trial_eq))) - (3*mu*sigma_trial_dev[2,0]*sigma_trial_dev[2,0])\n",
    "        C_t[0][1] = ((3*lamda + 2*mu)/3 - (2*mu*(sigma_trial_eq - 3*mu*plastic_multiplier)/(3*sigma_trial_eq))) - (3*mu*sigma_trial_dev[0,0]*sigma_trial_dev[1,0])\n",
    "        C_t[0][2] = ((3*lamda + 2*mu)/3 - (2*mu*(sigma_trial_eq - 3*mu*plastic_multiplier)/(3*sigma_trial_eq))) - (3*mu*sigma_trial_dev[0,0]*sigma_trial_dev[2,0])\n",
    "        C_t[1][0] = ((3*lamda + 2*mu)/3 - (2*mu*(sigma_trial_eq - 3*mu*plastic_multiplier)/(3*sigma_trial_eq))) - (3*mu*sigma_trial_dev[1,0]*sigma_trial_dev[0,0])\n",
    "        C_t[1][2] = ((3*lamda + 2*mu)/3 - (2*mu*(sigma_trial_eq - 3*mu*plastic_multiplier)/(3*sigma_trial_eq))) - (3*mu*sigma_trial_dev[1,0]*sigma_trial_dev[2,0])\n",
    "        C_t[2][0] = ((3*lamda + 2*mu)/3 - (2*mu*(sigma_trial_eq - 3*mu*plastic_multiplier)/(3*sigma_trial_eq))) - (3*mu*sigma_trial_dev[2,0]*sigma_trial_dev[0,0])\n",
    "        C_t[2][1] = ((3*lamda + 2*mu)/3 - (2*mu*(sigma_trial_eq - 3*mu*plastic_multiplier)/(3*sigma_trial_eq))) - (3*mu*sigma_trial_dev[2,0]*sigma_trial_dev[1,0])\n",
    "        \n",
    "        epsilon_plastic_new = epsilon_plastic_old + plastic_multiplier*np.sign(sigma_new)\n",
    "    \n",
    "    return sigma_new, C_t, epsilon_plastic_new\n"
   ]
  },
  {
   "cell_type": "markdown",
   "metadata": {},
   "source": [
    "## Define Element Routine:"
   ]
  },
  {
   "cell_type": "code",
   "execution_count": null,
   "metadata": {},
   "outputs": [],
   "source": [
    "#Defining my Element Routine:\n",
    "\n",
    "def elementroutine(r,lamda, mu,u_element, epsilon_plastic,sigmaY,youngs_modulus):\n",
    "    length_of_element = r[1]-r[0]\n",
    "    jacobian = length_of_element/2\n",
    "    weight = 2\n",
    "    gauss_point = 0\n",
    "    N1 = (1-gauss_point)/2\n",
    "    N2 = (1+gauss_point)/2\n",
    "    \n",
    "    B = np.array([-1/(2*jacobian), 1/(2*jacobian), N1/(N1*r[0] + N2*r[1]), N2/(N1*r[0] + N2*r[1]), N1/(N1*r[0] + N2*r[1]), N2/(N1*r[0] + N2*r[1])]).reshape(3,2)\n",
    "    \n",
    "    epsilon = np.dot(B, u_element)\n",
    "\n",
    "    stress_new , Material_Stiffness1, strain_plastic = material_routine(epsilon, epsilon_plastic, lamda, mu,sigmaY,youngs_modulus)\n",
    "    \n",
    "    Kt_element = weight * ((B.transpose()).dot(Material_Stiffness1).dot(B)) * (N1*r[0] + N2*r[1])**2 * jacobian\n",
    "    \n",
    "    F_int = Kt_element@u_element\n",
    "    \n",
    "    #F_ext = (N1*r[0] + N2*r[1])*stress_new[0]*(np.array([ N1,N2]).reshape(2,1))\n",
    "    return Kt_element, F_int, stress_new, strain_plastic"
   ]
  },
  {
   "cell_type": "markdown",
   "metadata": {},
   "source": [
    "## Discretizaton :"
   ]
  },
  {
   "cell_type": "code",
   "execution_count": null,
   "metadata": {},
   "outputs": [],
   "source": [
    "#Defining the elements:\n",
    "r = np.zeros((number_of_elements,2)) \n",
    "\n",
    "#ratio of element sizes at outer and inner radius\n",
    "meshrefinementfactor = 5\n",
    "\n",
    "#ratio between element sizes of subsequent elements for a geometric series\n",
    "q = meshrefinementfactor**(1./(number_of_elements-1))\n",
    "\n",
    "#size of first element\n",
    "element_1 =(r_out-r_in)*(1-q)/(1-meshrefinementfactor*q)\n",
    "\n",
    "temp_r = r_in\n",
    "\n",
    "for i in range(number_of_elements):\n",
    "    r[i,0] = temp_r\n",
    "    r[i,1] = temp_r + element_1\n",
    "    temp_r = r[i,1]\n",
    "    element_1 = element_1*q"
   ]
  },
  {
   "cell_type": "markdown",
   "metadata": {},
   "source": [
    "## Assignment/ Assembling Matrix:"
   ]
  },
  {
   "cell_type": "code",
   "execution_count": null,
   "metadata": {},
   "outputs": [],
   "source": [
    "#Assembling Matrix\n",
    "def assembling(number_of_nodes,num):\n",
    "    A=np.zeros((2,number_of_nodes))\n",
    "    A[0][num]=1\n",
    "    A[1][num+1]=1\n",
    "    return A"
   ]
  },
  {
   "cell_type": "markdown",
   "metadata": {},
   "source": [
    "## Printing the Displacements into a Text File:"
   ]
  },
  {
   "cell_type": "code",
   "execution_count": null,
   "metadata": {},
   "outputs": [],
   "source": [
    "f = open(\"Output_of_NLFEM_Assignement.txt\", \"a\")\n",
    "\n",
    "f.truncate(0)\n",
    "\n",
    "plastic_reached = 0"
   ]
  },
  {
   "cell_type": "code",
   "execution_count": null,
   "metadata": {},
   "outputs": [],
   "source": [
    "for i , time_step in enumerate(all_times):\n",
    "    \n",
    "    u_time_step = u[i-1,:,:]                                      # PREVIOUS DISPLACEMENT\n",
    "    epsilon_plastic_history_time = epsilon_plastic[i-1,:,:]       # PREVIOUS PLASTIC STRAIN\n",
    "    u_time_step[0,0] = time_step*epsilon_v*r_in/3                 # Ui at the First INNER Node\n",
    "    epsilon_plastic_temp_storage = np.zeros_like(epsilon_plastic_history_time)\n",
    "    stress_temp_storage = np.zeros_like(epsilon_plastic_history_time)\n",
    "    \n",
    "    ################################# NEWTON RAPHSON METHOD ##################################################\n",
    "    \n",
    "    for convergence_test in range(5):\n",
    "        \n",
    "        if convergence_test >0 :\n",
    "            \n",
    "            if np.amax(np.absolute(reduced_delta_u)) <= 0.005*(np.amax(np.absolute(u_time_step[1:,0]))) :\n",
    "                \n",
    "                print(\"\\n !!!!!!!!!  Newton Raphson converged at Iteration number : \", convergence_test, \" !!!!!!!!!!! \\n\")\n",
    "                \n",
    "                break\n",
    "                \n",
    "        for j in range(number_of_elements):\n",
    "            \n",
    "            A = assembling(number_of_nodes,j)    #Assignment Matrix\n",
    "            \n",
    "            u_element = np.dot(A,u_time_step)    #U_Element\n",
    "            \n",
    "            Kt_ele, F_int_ele, stress3D2, strain_plastic1 = elementroutine(r[j],lamda, mu,u_element,(epsilon_plastic_history_time[:,j]).reshape((3,1)),sigmaY,youngs_modulus)\n",
    "            \n",
    "            epsilon_plastic_temp_storage[:,j] = strain_plastic1.transpose()   #Storing the Plastic History Element Wise\n",
    "            \n",
    "            stress_temp_storage[:,j] = stress3D2.transpose()\n",
    "            \n",
    "            Kt=Kt + ((A.transpose()).dot(Kt_ele).dot(A))                      # Global Stiffness Matrix\n",
    "            \n",
    "            F_int=F_int+((A.transpose()).dot(F_int_ele))                      # Global Internal Force\n",
    "        \n",
    "        ############################ Calculation of Displacements (K * delta_U = -G) #############################\n",
    "        \n",
    "        reduced_Kt = Kt[1:,1:]\n",
    "        \n",
    "        reduced_G = F_int[1:,0]\n",
    "        \n",
    "        reduced_delta_u = np.linalg.inv(reduced_Kt) @ (-reduced_G)\n",
    "        \n",
    "        u_time_step[1:,0] = u_time_step[1:,0] + reduced_delta_u\n",
    "        \n",
    "    #################################### Updating the Current Displacements and Strains ########################\n",
    "    \n",
    "    u[i,:,:] = u_time_step\n",
    "    \n",
    "    epsilon_plastic[i,:,:] = epsilon_plastic_temp_storage\n",
    "    \n",
    "    stress_3D[i,:,:] = stress_temp_storage\n",
    "    \n",
    "    if np.count_nonzero(epsilon_plastic[i,:,:]) !=0 :\n",
    "        \n",
    "        plastic_reached += 1\n",
    "        \n",
    "        if plastic_reached ==1:\n",
    "            print(\"**********************The Material has reached its Plastic Regime at iteration =\", i, \" ***************\")\n",
    "            print(\"epsilon_plastic = \\n\",epsilon_plastic[i,:,:], file = f)\n",
    "    \n",
    "    print(\"U for time step = \",time_step,\"\\n\", u[i,:,:], file=f)\n",
    "    \n",
    "        \n",
    "f.close()\n",
    "        \n",
    "        \n",
    "    "
   ]
  },
  {
   "cell_type": "markdown",
   "metadata": {},
   "source": [
    "## Analytical Solution for Displacements in elastic case: "
   ]
  },
  {
   "cell_type": "code",
   "execution_count": null,
   "metadata": {},
   "outputs": [],
   "source": [
    "r_check = np.unique(r)\n",
    "\n",
    "u_r_elastic = r_in**3 * epsilon_v/(3*np.square(r_check))\n",
    "\n",
    "sigma_rr_elastic = -2*youngs_modulus*epsilon_v*r_in**3 / (3*(1+poisson_ratio)*r_check**3)\n"
   ]
  },
  {
   "cell_type": "markdown",
   "metadata": {},
   "source": [
    "## Plotting the Numerical v/s Analytical Displacements in Elastic Case:"
   ]
  },
  {
   "cell_type": "code",
   "execution_count": null,
   "metadata": {},
   "outputs": [],
   "source": [
    "fig, ax = plt.subplots(nrows = 3, figsize=((15,10)))\n",
    "\n",
    "ax[0].set_title('Convergence Study of Displacements in Elastic Regime', fontsize=18)\n",
    "ax[0].plot(r_check,u_r_elastic, label = 'Analytical')\n",
    "ax[0].plot(r_check,u[9,:,0] ,\"o--\", label =\"Numerical\")\n",
    "ax[0].set_xlabel('r [$\\mu m$]', fontsize=20)\n",
    "ax[0].set_ylabel('U_r_Elastic [$\\mu m$]', fontsize=20)\n",
    "ax[0].legend()\n",
    "\n",
    "ax[1].set_title('Convergence Study of Sigma_rr in Elastic Regime', fontsize=18)\n",
    "ax[1].plot(r_check,sigma_rr_elastic, label = 'Analytical')\n",
    "ax[1].plot(r_check[:-1],stress_3D[9,0,:] , \"r--\", label =\"Numerical\")\n",
    "ax[1].set_xlabel('r [$\\mu m$]', fontsize=20)\n",
    "ax[1].set_ylabel('$\\sigma_{rr}$_Elastic [MPa]', fontsize=20)\n",
    "ax[1].legend()\n",
    "\n",
    "ax[2].set_title('Non linearity of Sigma_rr w.r.t time', fontsize=18)\n",
    "ax[2].plot(all_times,stress_3D[:,0,0] , '*--',label =\"Numerical\")\n",
    "ax[2].set_xlabel('time [seconds]', fontsize=20)\n",
    "ax[2].set_ylabel('$\\sigma_{rr}$ [MPa]', fontsize=20)\n",
    "ax[2].legend()\n",
    "\n",
    "fig.tight_layout()\n",
    "plt.show()"
   ]
  }
 ],
 "metadata": {
  "kernelspec": {
   "display_name": "Python 3",
   "language": "python",
   "name": "python3"
  },
  "language_info": {
   "codemirror_mode": {
    "name": "ipython",
    "version": 3
   },
   "file_extension": ".py",
   "mimetype": "text/x-python",
   "name": "python",
   "nbconvert_exporter": "python",
   "pygments_lexer": "ipython3",
   "version": "3.7.3"
  }
 },
 "nbformat": 4,
 "nbformat_minor": 2
}
